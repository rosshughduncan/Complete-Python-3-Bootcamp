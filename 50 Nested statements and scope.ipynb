{
 "cells": [
  {
   "cell_type": "code",
   "execution_count": 1,
   "metadata": {},
   "outputs": [
    {
     "data": {
      "text/plain": [
       "50"
      ]
     },
     "execution_count": 1,
     "metadata": {},
     "output_type": "execute_result"
    }
   ],
   "source": [
    "x = 25\n",
    "def printer():\n",
    "    x = 50\n",
    "    return x\n",
    "printer()"
   ]
  },
  {
   "cell_type": "code",
   "execution_count": 5,
   "metadata": {},
   "outputs": [
    {
     "name": "stdout",
     "output_type": "stream",
     "text": [
      "Hello I'm a local\n"
     ]
    }
   ],
   "source": [
    "lambda num: num**2 # num is local to the lambda expression\n",
    "# Global\n",
    "name = 'This is a global string'\n",
    "def greet():\n",
    "    # Enclosing\n",
    "    #name = 'Sammy' # this name is within the local namespace so it is retrieved first\n",
    "    def hello():\n",
    "        # Local\n",
    "        name = \"I'm a local\"\n",
    "        print('Hello {0}'.format(name))\n",
    "    hello()\n",
    "greet()"
   ]
  },
  {
   "cell_type": "code",
   "execution_count": 15,
   "metadata": {},
   "outputs": [
    {
     "name": "stdout",
     "output_type": "stream",
     "text": [
      "X is 50\n",
      "I just locally changed global x to 200\n"
     ]
    }
   ],
   "source": [
    "x = 50\n",
    "def func():\n",
    "    # writes a value into the global namespace\n",
    "    global x # avoid using the global keyword\n",
    "    print(f'X is {x}')\n",
    "    x = 200 # local reassignment on a global variable\n",
    "    print(f'I just locally changed global x to {x}')\n",
    "func()"
   ]
  },
  {
   "cell_type": "code",
   "execution_count": 12,
   "metadata": {},
   "outputs": [
    {
     "name": "stdout",
     "output_type": "stream",
     "text": [
      "50\n"
     ]
    }
   ],
   "source": [
    "print(x) # retrieves the global value"
   ]
  },
  {
   "cell_type": "code",
   "execution_count": null,
   "metadata": {},
   "outputs": [],
   "source": []
  }
 ],
 "metadata": {
  "kernelspec": {
   "display_name": "Python 3",
   "language": "python",
   "name": "python3"
  },
  "language_info": {
   "codemirror_mode": {
    "name": "ipython",
    "version": 3
   },
   "file_extension": ".py",
   "mimetype": "text/x-python",
   "name": "python",
   "nbconvert_exporter": "python",
   "pygments_lexer": "ipython3",
   "version": "3.7.6"
  }
 },
 "nbformat": 4,
 "nbformat_minor": 4
}
