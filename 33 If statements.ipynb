{
 "cells": [
  {
   "cell_type": "code",
   "execution_count": 5,
   "metadata": {},
   "outputs": [
    {
     "name": "stdout",
     "output_type": "stream",
     "text": [
      "I'm not hungry\n"
     ]
    }
   ],
   "source": [
    "#hungry = True\n",
    "hungry = False\n",
    "if hungry:\n",
    "    # automatic indentation\n",
    "    print(\"Feed me!\")\n",
    "else:\n",
    "    print(\"I'm not hungry\")"
   ]
  },
  {
   "cell_type": "code",
   "execution_count": 8,
   "metadata": {},
   "outputs": [
    {
     "name": "stdout",
     "output_type": "stream",
     "text": [
      "Money is cool!\n"
     ]
    }
   ],
   "source": [
    "loc = 'Bank'\n",
    "#loc = 'Auto Shop'\n",
    "if loc == 'Auto Shop':\n",
    "    print('Cars are cool')\n",
    "elif loc == 'Bank':\n",
    "    print('Money is cool!')\n",
    "else:\n",
    "    print('I do not know much')"
   ]
  },
  {
   "cell_type": "code",
   "execution_count": 9,
   "metadata": {},
   "outputs": [
    {
     "name": "stdout",
     "output_type": "stream",
     "text": [
      "Hello Sammy!\n"
     ]
    }
   ],
   "source": [
    "name = 'Sammy'\n",
    "if name == 'Frankie':\n",
    "    print(\"Hello Frankie!\")\n",
    "elif name == 'Sammy':\n",
    "    print(\"Hello Sammy!\")\n",
    "else:\n",
    "    print(\"What is your name?\")"
   ]
  },
  {
   "cell_type": "code",
   "execution_count": null,
   "metadata": {},
   "outputs": [],
   "source": []
  }
 ],
 "metadata": {
  "kernelspec": {
   "display_name": "Python 3",
   "language": "python",
   "name": "python3"
  },
  "language_info": {
   "codemirror_mode": {
    "name": "ipython",
    "version": 3
   },
   "file_extension": ".py",
   "mimetype": "text/x-python",
   "name": "python",
   "nbconvert_exporter": "python",
   "pygments_lexer": "ipython3",
   "version": "3.7.6"
  }
 },
 "nbformat": 4,
 "nbformat_minor": 4
}
